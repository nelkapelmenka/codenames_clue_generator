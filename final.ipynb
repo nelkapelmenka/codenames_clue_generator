{
 "cells": [
  {
   "cell_type": "code",
   "execution_count": 22,
   "metadata": {},
   "outputs": [],
   "source": [
    "import numpy as np\n",
    "import cv2\n",
    "import matplotlib.pyplot as plt\n",
    "import pytesseract\n",
    "import math\n",
    "from itertools import combinations\n",
    "import gensim\n",
    "import gensim.downloader as api"
   ]
  },
  {
   "cell_type": "code",
   "execution_count": 47,
   "metadata": {},
   "outputs": [],
   "source": [
    "from gensim.models.word2vec import Word2Vec\n",
    "corpus = api.load('text8')\n",
    "model = Word2Vec(corpus)"
   ]
  },
  {
   "cell_type": "code",
   "execution_count": 18,
   "metadata": {},
   "outputs": [
    {
     "name": "stdout",
     "output_type": "stream",
     "text": [
      "CPU times: user 20.8 s, sys: 299 ms, total: 21.1 s\n",
      "Wall time: 21.5 s\n"
     ]
    }
   ],
   "source": [
    "%%time\n",
    "model_glove = api.load('glove-wiki-gigaword-50')"
   ]
  },
  {
   "cell_type": "code",
   "execution_count": null,
   "metadata": {},
   "outputs": [],
   "source": [
    "neutral, red, blue, neutral, blue"
   ]
  },
  {
   "cell_type": "code",
   "execution_count": null,
   "metadata": {},
   "outputs": [],
   "source": [
    "red, red, blue, red, red"
   ]
  },
  {
   "cell_type": "code",
   "execution_count": null,
   "metadata": {},
   "outputs": [],
   "source": [
    "blue, blue, neutral, neutral, neutral"
   ]
  },
  {
   "cell_type": "code",
   "execution_count": null,
   "metadata": {},
   "outputs": [],
   "source": [
    "blue, neutral, assassin, red, blue"
   ]
  },
  {
   "cell_type": "code",
   "execution_count": null,
   "metadata": {},
   "outputs": [],
   "source": [
    "red, blue, neutral, red, red"
   ]
  },
  {
   "cell_type": "code",
   "execution_count": 90,
   "metadata": {},
   "outputs": [
    {
     "name": "stdout",
     "output_type": "stream",
     "text": [
      "List red, blue, neutral or assassin for row 1\n"
     ]
    },
    {
     "name": "stdin",
     "output_type": "stream",
     "text": [
      " neutral, red, blue, neutral, blue\n"
     ]
    },
    {
     "name": "stdout",
     "output_type": "stream",
     "text": [
      "List red, blue, neutral or assassin for row 2\n"
     ]
    },
    {
     "name": "stdin",
     "output_type": "stream",
     "text": [
      " red, red, blue, red, red\n"
     ]
    },
    {
     "name": "stdout",
     "output_type": "stream",
     "text": [
      "List red, blue, neutral or assassin for row 3\n"
     ]
    },
    {
     "name": "stdin",
     "output_type": "stream",
     "text": [
      " blue, blue, neutral, neutral, neutral\n"
     ]
    },
    {
     "name": "stdout",
     "output_type": "stream",
     "text": [
      "List red, blue, neutral or assassin for row 4\n"
     ]
    },
    {
     "name": "stdin",
     "output_type": "stream",
     "text": [
      " blue, neutral, assassin, red, blue\n"
     ]
    },
    {
     "name": "stdout",
     "output_type": "stream",
     "text": [
      "List red, blue, neutral or assassin for row 5\n"
     ]
    },
    {
     "name": "stdin",
     "output_type": "stream",
     "text": [
      " red, blue, neutral, red, red\n"
     ]
    },
    {
     "name": "stdout",
     "output_type": "stream",
     "text": [
      "What colour is your team?\n"
     ]
    },
    {
     "name": "stdin",
     "output_type": "stream",
     "text": [
      " blue\n"
     ]
    },
    {
     "name": "stdout",
     "output_type": "stream",
     "text": [
      "The word combination is:\n",
      "['string', 'staff']\n",
      "The clues are:\n",
      "['axiom', 'multiplication', 'hierarchy']\n",
      "\n",
      "The word combination is:\n",
      "['string', 'princess']\n",
      "The clues are:\n",
      "['cardinal', 'cofinality', 'masculine']\n",
      "\n",
      "The word combination is:\n",
      "['string', 'crash']\n",
      "The clues are:\n",
      "['valence', 'torsion', 'ax']\n",
      "\n",
      "The word combination is:\n",
      "['string', 'orange']\n",
      "The clues are:\n",
      "['valence', 'tonal', 'fricatives']\n",
      "\n",
      "The word combination is:\n",
      "['string', 'crane']\n",
      "The clues are:\n",
      "['tonal', 'diatonic', 'clarinet']\n",
      "\n",
      "The word combination is:\n",
      "['string', 'grass']\n",
      "The clues are:\n",
      "['tonal', 'diatonic', 'rhythmic']\n",
      "\n",
      "The word combination is:\n",
      "['string', 'nut']\n",
      "The clues are:\n",
      "['tonal', 'plosives', 'valence']\n",
      "\n",
      "The word combination is:\n",
      "['staff', 'princess']\n",
      "The clues are:\n",
      "['electors', 'magistrates', 'mazarin']\n",
      "\n",
      "The word combination is:\n",
      "['staff', 'crash']\n",
      "The clues are:\n",
      "['personnel', 'ss', 'squad']\n",
      "\n",
      "The word combination is:\n",
      "['staff', 'orange']\n",
      "The clues are:\n",
      "['secretaries', 'grandees', 'magistrates']\n",
      "\n",
      "The word combination is:\n",
      "['staff', 'crane']\n",
      "The clues are:\n",
      "['famers', 'nco', 'senior']\n",
      "\n",
      "The word combination is:\n",
      "['staff', 'grass']\n",
      "The clues are:\n",
      "['cabinets', 'uniformed', 'fermions']\n",
      "\n",
      "The word combination is:\n",
      "['staff', 'nut']\n",
      "The clues are:\n",
      "['cabinets', 'profil', 'rulebooks']\n",
      "\n",
      "The word combination is:\n",
      "['princess', 'crash']\n",
      "The clues are:\n",
      "['ivan', 'gustaf', 'dreyer']\n",
      "\n",
      "The word combination is:\n",
      "['princess', 'orange']\n",
      "The clues are:\n",
      "['vasa', 'ku', 'wettin']\n",
      "\n",
      "The word combination is:\n",
      "['princess', 'crane']\n",
      "The clues are:\n",
      "['barrett', 'vasa', 'vernius']\n",
      "\n",
      "The word combination is:\n",
      "['princess', 'grass']\n",
      "The clues are:\n",
      "['hapalemur', 'lemur', 'ashtoreth']\n",
      "\n",
      "The word combination is:\n",
      "['princess', 'nut']\n",
      "The clues are:\n",
      "['hapalemur', 'vasa', 'pani']\n",
      "\n",
      "The word combination is:\n",
      "['crash', 'orange']\n",
      "The clues are:\n",
      "['sef', 'ambidextrous', 'dissolves']\n",
      "\n",
      "The word combination is:\n",
      "['crash', 'crane']\n",
      "The clues are:\n",
      "['profil', 'crooks', 'dreyer']\n",
      "\n",
      "The word combination is:\n",
      "['crash', 'grass']\n",
      "The clues are:\n",
      "['motile', 'adhesive', 'ventral']\n",
      "\n",
      "The word combination is:\n",
      "['crash', 'nut']\n",
      "The clues are:\n",
      "['cro', 'galvanic', 'epithelial']\n",
      "\n",
      "The word combination is:\n",
      "['orange', 'crane']\n",
      "The clues are:\n",
      "['gray', 'lemur', 'winged']\n",
      "\n",
      "The word combination is:\n",
      "['orange', 'grass']\n",
      "The clues are:\n",
      "['colored', 'striped', 'agate']\n",
      "\n",
      "The word combination is:\n",
      "['orange', 'nut']\n",
      "The clues are:\n",
      "['arsenate', 'aluminum', 'beryl']\n",
      "\n",
      "The word combination is:\n",
      "['crane', 'grass']\n",
      "The clues are:\n",
      "['winged', 'striped', 'squirrel']\n",
      "\n",
      "The word combination is:\n",
      "['crane', 'nut']\n",
      "The clues are:\n",
      "['lemur', 'spongy', 'beryl']\n",
      "\n",
      "The word combination is:\n",
      "['grass', 'nut']\n",
      "The clues are:\n",
      "['pear', 'fermenting', 'selenide']\n",
      "\n",
      "CPU times: user 522 ms, sys: 105 ms, total: 627 ms\n",
      "Wall time: 16.9 s\n"
     ]
    },
    {
     "name": "stderr",
     "output_type": "stream",
     "text": [
      "/Users/aydinyanna/.pyenv/versions/3.6.9/lib/python3.6/site-packages/ipykernel_launcher.py:17: DeprecationWarning: Call to deprecated `most_similar_cosmul` (Method will be removed in 4.0.0, use self.wv.most_similar_cosmul() instead).\n"
     ]
    }
   ],
   "source": [
    "%%time\n",
    "codenames('words/clean_words1.jpeg', 2)"
   ]
  },
  {
   "cell_type": "code",
   "execution_count": 8,
   "metadata": {},
   "outputs": [],
   "source": [
    "def word_recognition(words_path):\n",
    "    non_proc = cv2.imread(words_path)\n",
    "    non_proc[non_proc > 10] = 255 # Turn anything other than black to white to get rid of noise\n",
    "    words = pytesseract.image_to_string(non_proc)\n",
    "    proc = words.replace('\\n\\n', ',').replace('\\n',',').lower().split(',')[:25]\n",
    "    \n",
    "    return np.asarray(proc)"
   ]
  },
  {
   "cell_type": "code",
   "execution_count": 60,
   "metadata": {},
   "outputs": [],
   "source": [
    "def grid_processing():\n",
    "    \n",
    "    # What does the grid look like\n",
    "    print('List red, blue, neutral or assassin for row 1')\n",
    "    grid1 = input()\n",
    "    \n",
    "    print('List red, blue, neutral or assassin for row 2')\n",
    "    grid2 = input()\n",
    "    \n",
    "    print('List red, blue, neutral or assassin for row 3')\n",
    "    grid3 = input()\n",
    "    \n",
    "    print('List red, blue, neutral or assassin for row 4')\n",
    "    grid4 = input()\n",
    "    \n",
    "    print('List red, blue, neutral or assassin for row 5')\n",
    "    grid5 = input()\n",
    "    \n",
    "    print('What colour is your team?')\n",
    "    team = input()\n",
    "    \n",
    "    grid_list = grid1 + ',' + grid2 + ',' + grid3 + ',' + grid4 + ',' + grid5\n",
    "    total_grid = grid_list.replace(' ', '').split(',')\n",
    "    num_grid = [1 if colour == team else -1 if colour == 'assassin' else 0 for colour in total_grid]\n",
    "    \n",
    "    return np.asarray(num_grid)"
   ]
  },
  {
   "cell_type": "code",
   "execution_count": 84,
   "metadata": {},
   "outputs": [],
   "source": [
    "def clue_processing(words, grid, num_words):\n",
    "    \n",
    "    board_words = []\n",
    "    clues = []\n",
    "    \n",
    "    pos_words = words[grid == 1]\n",
    "    neg_words = words[grid == -1]\n",
    "    \n",
    "    count_permutations = math.factorial(len(pos_words))/math.factorial(num_words) * math.factorial(len(pos_words) - num_words)\n",
    "    combs = combinations(list(pos_words), num_words)\n",
    "    arr_words = []\n",
    "    for i in list(combs):\n",
    "        arr_words.append(list(i))\n",
    "    \n",
    "    # Test this\n",
    "    for i in arr_words:\n",
    "        options = model.most_similar_cosmul(positive=i, negative=list(neg_words), topn=3)\n",
    "        opt_words = [word for word, num in options if num > 0.8]\n",
    "        if len(opt_words) > 0:\n",
    "            board_words.append(i)\n",
    "            clues.append(opt_words)\n",
    "        else:\n",
    "            continue\n",
    "    \n",
    "    return zip(board_words, clues)"
   ]
  },
  {
   "cell_type": "code",
   "execution_count": 62,
   "metadata": {},
   "outputs": [],
   "source": [
    "def codenames(board_path, num_words):\n",
    "    words = word_recognition(board_path)\n",
    "    grid = grid_processing()\n",
    "    \n",
    "    solutions = clue_processing(words, grid, num_words)\n",
    "    for combination, clue in solutions:\n",
    "        print('The word combination is:')\n",
    "        print(combination)\n",
    "        print('The clues are:')\n",
    "        print(clue)\n",
    "        print()"
   ]
  },
  {
   "cell_type": "code",
   "execution_count": 52,
   "metadata": {},
   "outputs": [
    {
     "name": "stderr",
     "output_type": "stream",
     "text": [
      "/Users/aydinyanna/.pyenv/versions/3.6.9/lib/python3.6/site-packages/ipykernel_launcher.py:1: DeprecationWarning: Call to deprecated `most_similar` (Method will be removed in 4.0.0, use self.wv.most_similar() instead).\n",
      "  \"\"\"Entry point for launching an IPython kernel.\n"
     ]
    },
    {
     "data": {
      "text/plain": [
       "[('nose', 0.7740428447723389),\n",
       " ('claw', 0.7648398876190186),\n",
       " ('rope', 0.7589991092681885),\n",
       " ('jacket', 0.758576512336731),\n",
       " ('bow', 0.7527759075164795),\n",
       " ('boots', 0.7525355815887451),\n",
       " ('broom', 0.7451478242874146),\n",
       " ('rider', 0.7404029369354248),\n",
       " ('stick', 0.7364804744720459),\n",
       " ('wrist', 0.7336670160293579)]"
      ]
     },
     "execution_count": 52,
     "metadata": {},
     "output_type": "execute_result"
    }
   ],
   "source": [
    "model.most_similar('nail')"
   ]
  },
  {
   "cell_type": "code",
   "execution_count": null,
   "metadata": {},
   "outputs": [],
   "source": []
  }
 ],
 "metadata": {
  "kernelspec": {
   "display_name": "Python 3",
   "language": "python",
   "name": "python3"
  },
  "language_info": {
   "codemirror_mode": {
    "name": "ipython",
    "version": 3
   },
   "file_extension": ".py",
   "mimetype": "text/x-python",
   "name": "python",
   "nbconvert_exporter": "python",
   "pygments_lexer": "ipython3",
   "version": "3.6.9"
  }
 },
 "nbformat": 4,
 "nbformat_minor": 4
}
