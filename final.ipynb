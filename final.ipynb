{
 "cells": [
  {
   "cell_type": "markdown",
   "metadata": {},
   "source": [
    "## Import all the libraries"
   ]
  },
  {
   "cell_type": "code",
   "execution_count": 1,
   "metadata": {},
   "outputs": [
    {
     "name": "stderr",
     "output_type": "stream",
     "text": [
      "/Users/aydinyanna/.pyenv/versions/3.6.9/lib/python3.6/site-packages/pandas/compat/__init__.py:117: UserWarning: Could not import the lzma module. Your installed Python is incomplete. Attempting to use lzma compression will result in a RuntimeError.\n",
      "  warnings.warn(msg)\n"
     ]
    }
   ],
   "source": [
    "import numpy as np\n",
    "import matplotlib.pyplot as plt\n",
    "import math\n",
    "\n",
    "# openCV\n",
    "import cv2\n",
    "\n",
    "# Reads in the text from images\n",
    "import pytesseract\n",
    "\n",
    "# Does count permutations\n",
    "from itertools import combinations\n",
    "\n",
    "# The next three imports are related to vectorising words and finding similarities\n",
    "import gensim\n",
    "from gensim.models.word2vec import Word2Vec\n",
    "import gensim.downloader as api"
   ]
  },
  {
   "cell_type": "markdown",
   "metadata": {},
   "source": [
    "## Uploading and instantiating the model for the word vectors"
   ]
  },
  {
   "cell_type": "code",
   "execution_count": 3,
   "metadata": {},
   "outputs": [
    {
     "name": "stdout",
     "output_type": "stream",
     "text": [
      "CPU times: user 3min 37s, sys: 4.23 s, total: 3min 41s\n",
      "Wall time: 1min 56s\n"
     ]
    }
   ],
   "source": [
    "%%time\n",
    "corpus = api.load('text8')\n",
    "model = Word2Vec(corpus)"
   ]
  },
  {
   "cell_type": "code",
   "execution_count": 4,
   "metadata": {},
   "outputs": [],
   "source": [
    "\"\"\"\n",
    "This method read in the path for the board of words. It turns any pixel above 10 to white (0-255|black-white).\n",
    "Uses the pytesseract library to read the text off the image.\n",
    "Formats the output string and return the final array of words\n",
    "\"\"\"\n",
    "\n",
    "def word_recognition(words_path):\n",
    "    non_proc = cv2.imread(words_path)\n",
    "    non_proc[non_proc > 10] = 255 # Turn anything other than black to white to get rid of noise\n",
    "    words = pytesseract.image_to_string(non_proc)\n",
    "    proc = words.replace('\\n\\n', ',').replace('\\n',',').lower().split(',')[:25]\n",
    "    \n",
    "    return np.asarray(proc)"
   ]
  },
  {
   "cell_type": "code",
   "execution_count": 5,
   "metadata": {},
   "outputs": [],
   "source": [
    "\"\"\"\n",
    "The grid processing currently provides fields for input where the user can manually input the values for the grid:\n",
    "They are listed similar as in the following example: neutral, red, blue, neutral, blue\n",
    "\"\"\"\n",
    "\n",
    "def grid_processing():\n",
    "    \n",
    "    # What does the grid look like\n",
    "    print('List red, blue, neutral or assassin for row 1')\n",
    "    grid1 = input()\n",
    "    \n",
    "    print('List red, blue, neutral or assassin for row 2')\n",
    "    grid2 = input()\n",
    "    \n",
    "    print('List red, blue, neutral or assassin for row 3')\n",
    "    grid3 = input()\n",
    "    \n",
    "    print('List red, blue, neutral or assassin for row 4')\n",
    "    grid4 = input()\n",
    "    \n",
    "    print('List red, blue, neutral or assassin for row 5')\n",
    "    grid5 = input()\n",
    "    \n",
    "    print('What colour is your team?')\n",
    "    team = input()\n",
    "    \n",
    "    grid_list = grid1 + ',' + grid2 + ',' + grid3 + ',' + grid4 + ',' + grid5\n",
    "    total_grid = grid_list.replace(' ', '').split(',')\n",
    "    num_grid = [1 if colour == team else -1 if colour == 'assassin' else 0 for colour in total_grid]\n",
    "    \n",
    "    return np.asarray(num_grid)"
   ]
  },
  {
   "cell_type": "code",
   "execution_count": 6,
   "metadata": {},
   "outputs": [],
   "source": [
    "\"\"\"\n",
    "The method takes in the arrays of words and grid values\n",
    "\"\"\"\n",
    "def clue_processing(words, grid, num_words):\n",
    "    \n",
    "    board_words = []\n",
    "    clues = []\n",
    "    \n",
    "    # find the words that are correspondent to 1 or -1\n",
    "    pos_words = words[grid == 1]\n",
    "    neg_words = words[grid == -1]\n",
    "    \n",
    "    count_permutations = math.factorial(len(pos_words))/math.factorial(num_words) * math.factorial(len(pos_words) - num_words)\n",
    "    combs = combinations(list(pos_words), num_words)\n",
    "    \n",
    "    # lists all the found combinations into a 2d list\n",
    "    arr_words = []\n",
    "    for i in list(combs):\n",
    "        arr_words.append(list(i))\n",
    "    \n",
    "    # for each combination find the best clue\n",
    "    for i in arr_words:\n",
    "        options = model.most_similar_cosmul(positive=i, negative=list(neg_words), topn=3)\n",
    "        opt_words = [word for word, num in options if num > 0.8] # 0.8 is a threshold on how similar the words are\n",
    "        \n",
    "        # append results if the combination had any results\n",
    "        if len(opt_words) > 0:\n",
    "            board_words.append(i)\n",
    "            clues.append(opt_words)\n",
    "        else:\n",
    "            continue\n",
    "    \n",
    "    return zip(board_words, clues)"
   ]
  },
  {
   "cell_type": "code",
   "execution_count": 7,
   "metadata": {},
   "outputs": [],
   "source": [
    "\"\"\"\n",
    "The method that combines the rest of the methods and plays out the game\n",
    "num_words is the integer of how many words the user wants to combine\n",
    "\"\"\"\n",
    "def codenames(board_path, num_words):\n",
    "    words = word_recognition(board_path)\n",
    "    grid = grid_processing()\n",
    "    \n",
    "    solutions = clue_processing(words, grid, num_words)\n",
    "    for combination, clue in solutions:\n",
    "        print('The word combination is:')\n",
    "        print(combination)\n",
    "        print('The clues are:')\n",
    "        print(clue)\n",
    "        print()"
   ]
  },
  {
   "cell_type": "markdown",
   "metadata": {},
   "source": [
    "## Running the game!!"
   ]
  },
  {
   "cell_type": "code",
   "execution_count": 8,
   "metadata": {},
   "outputs": [
    {
     "name": "stdout",
     "output_type": "stream",
     "text": [
      "List red, blue, neutral or assassin for row 1\n"
     ]
    },
    {
     "name": "stdin",
     "output_type": "stream",
     "text": [
      " neutral, red, blue, neutral, blue\n"
     ]
    },
    {
     "name": "stdout",
     "output_type": "stream",
     "text": [
      "List red, blue, neutral or assassin for row 2\n"
     ]
    },
    {
     "name": "stdin",
     "output_type": "stream",
     "text": [
      " red, red, blue, red, red\n"
     ]
    },
    {
     "name": "stdout",
     "output_type": "stream",
     "text": [
      "List red, blue, neutral or assassin for row 3\n"
     ]
    },
    {
     "name": "stdin",
     "output_type": "stream",
     "text": [
      " blue, blue, neutral, neutral, neutral\n"
     ]
    },
    {
     "name": "stdout",
     "output_type": "stream",
     "text": [
      "List red, blue, neutral or assassin for row 4\n"
     ]
    },
    {
     "name": "stdin",
     "output_type": "stream",
     "text": [
      " blue, neutral, assassin, red, blue\n"
     ]
    },
    {
     "name": "stdout",
     "output_type": "stream",
     "text": [
      "List red, blue, neutral or assassin for row 5\n"
     ]
    },
    {
     "name": "stdin",
     "output_type": "stream",
     "text": [
      " red, blue, neutral, red, red\n"
     ]
    },
    {
     "name": "stdout",
     "output_type": "stream",
     "text": [
      "What colour is your team?\n"
     ]
    },
    {
     "name": "stdin",
     "output_type": "stream",
     "text": [
      " blue\n"
     ]
    },
    {
     "name": "stderr",
     "output_type": "stream",
     "text": [
      "/Users/aydinyanna/.pyenv/versions/3.6.9/lib/python3.6/site-packages/ipykernel_launcher.py:23: DeprecationWarning: Call to deprecated `most_similar_cosmul` (Method will be removed in 4.0.0, use self.wv.most_similar_cosmul() instead).\n"
     ]
    },
    {
     "name": "stdout",
     "output_type": "stream",
     "text": [
      "The word combination is:\n",
      "['string', 'orange', 'crane']\n",
      "The clues are:\n",
      "['stylized', 'trombone', 'winged']\n",
      "\n",
      "The word combination is:\n",
      "['string', 'orange', 'grass']\n",
      "The clues are:\n",
      "['colored', 'coloured', 'coloring']\n",
      "\n",
      "The word combination is:\n",
      "['string', 'orange', 'nut']\n",
      "The clues are:\n",
      "['coloring', 'tetrahedral', 'prism']\n",
      "\n",
      "The word combination is:\n",
      "['string', 'crane', 'grass']\n",
      "The clues are:\n",
      "['stylized', 'vibrato', 'coloring']\n",
      "\n",
      "The word combination is:\n",
      "['string', 'crane', 'nut']\n",
      "The clues are:\n",
      "['coloring', 'truss', 'vibrato']\n",
      "\n",
      "The word combination is:\n",
      "['string', 'grass', 'nut']\n",
      "The clues are:\n",
      "['gut', 'coloring', 'metallic']\n",
      "\n",
      "The word combination is:\n",
      "['princess', 'orange', 'crane']\n",
      "The clues are:\n",
      "['lily', 'surfer', 'lemur']\n",
      "\n",
      "The word combination is:\n",
      "['princess', 'orange', 'grass']\n",
      "The clues are:\n",
      "['lemur', 'hapalemur', 'phaner']\n",
      "\n",
      "The word combination is:\n",
      "['princess', 'orange', 'nut']\n",
      "The clues are:\n",
      "['lemur', 'phaner', 'hapalemur']\n",
      "\n",
      "The word combination is:\n",
      "['princess', 'crane', 'grass']\n",
      "The clues are:\n",
      "['lemur', 'bearded', 'lily']\n",
      "\n",
      "The word combination is:\n",
      "['princess', 'crane', 'nut']\n",
      "The clues are:\n",
      "['lemur', 'lily', 'grosbeak']\n",
      "\n",
      "The word combination is:\n",
      "['princess', 'grass', 'nut']\n",
      "The clues are:\n",
      "['lemur', 'hapalemur', 'spruce']\n",
      "\n",
      "The word combination is:\n",
      "['crash', 'orange', 'crane']\n",
      "The clues are:\n",
      "['bowser', 'petrified', 'bionic']\n",
      "\n",
      "The word combination is:\n",
      "['crash', 'orange', 'grass']\n",
      "The clues are:\n",
      "['violet', 'petrified', 'abalone']\n",
      "\n",
      "The word combination is:\n",
      "['crash', 'orange', 'nut']\n",
      "The clues are:\n",
      "['violet', 'petrified', 'abalone']\n",
      "\n",
      "The word combination is:\n",
      "['crash', 'crane', 'grass']\n",
      "The clues are:\n",
      "['shark', 'petrified', 'squirrel']\n",
      "\n",
      "The word combination is:\n",
      "['crash', 'crane', 'nut']\n",
      "The clues are:\n",
      "['piranha', 'hedgehog', 'plum']\n",
      "\n",
      "The word combination is:\n",
      "['crash', 'grass', 'nut']\n",
      "The clues are:\n",
      "['violet', 'yellowish', 'abalone']\n",
      "\n",
      "The word combination is:\n",
      "['orange', 'crane', 'grass']\n",
      "The clues are:\n",
      "['lemur', 'gray', 'winged']\n",
      "\n",
      "The word combination is:\n",
      "['orange', 'crane', 'nut']\n",
      "The clues are:\n",
      "['lemur', 'winged', 'squirrel']\n",
      "\n",
      "The word combination is:\n",
      "['orange', 'grass', 'nut']\n",
      "The clues are:\n",
      "['coloured', 'violet', 'yellowish']\n",
      "\n",
      "The word combination is:\n",
      "['crane', 'grass', 'nut']\n",
      "The clues are:\n",
      "['lemur', 'haliotis', 'pear']\n",
      "\n",
      "CPU times: user 1.05 s, sys: 211 ms, total: 1.26 s\n",
      "Wall time: 32.6 s\n"
     ]
    }
   ],
   "source": [
    "%%time\n",
    "codenames('words/words1.jpeg', 3)"
   ]
  },
  {
   "cell_type": "code",
   "execution_count": null,
   "metadata": {},
   "outputs": [],
   "source": []
  }
 ],
 "metadata": {
  "kernelspec": {
   "display_name": "Python 3",
   "language": "python",
   "name": "python3"
  },
  "language_info": {
   "codemirror_mode": {
    "name": "ipython",
    "version": 3
   },
   "file_extension": ".py",
   "mimetype": "text/x-python",
   "name": "python",
   "nbconvert_exporter": "python",
   "pygments_lexer": "ipython3",
   "version": "3.6.9"
  }
 },
 "nbformat": 4,
 "nbformat_minor": 4
}
