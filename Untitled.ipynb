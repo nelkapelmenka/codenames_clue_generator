{
 "cells": [
  {
   "cell_type": "code",
   "execution_count": 5,
   "metadata": {},
   "outputs": [],
   "source": [
    "from PIL import Image\n",
    "# import PIL.Image"
   ]
  },
  {
   "cell_type": "code",
   "execution_count": 2,
   "metadata": {},
   "outputs": [
    {
     "name": "stdout",
     "output_type": "stream",
     "text": [
      "Collecting pytesseract\n",
      "  Using cached https://files.pythonhosted.org/packages/a0/e6/a4e9fc8a93c1318540e8de6d8d4beb5749b7960388a7c7f27799fc2dd016/pytesseract-0.3.7.tar.gz\n",
      "Collecting Pillow (from pytesseract)\n",
      "\u001b[?25l  Downloading https://files.pythonhosted.org/packages/98/c9/e310f4ab22133ea0105622b7298a0c58d66104edc22b1f30abae87a2c4a1/Pillow-8.1.0-cp36-cp36m-macosx_10_10_x86_64.whl (2.2MB)\n",
      "\u001b[K    100% |████████████████████████████████| 2.2MB 17.4MB/s ta 0:00:01\n",
      "\u001b[?25hBuilding wheels for collected packages: pytesseract\n",
      "  Running setup.py bdist_wheel for pytesseract ... \u001b[?25ldone\n",
      "\u001b[?25h  Stored in directory: /Users/aydinyanna/Library/Caches/pip/wheels/81/20/7e/1dd0daad1575d5260916bb1e9781246430647adaef4b3ca3b3\n",
      "Successfully built pytesseract\n",
      "Installing collected packages: Pillow, pytesseract\n",
      "Successfully installed Pillow-8.1.0 pytesseract-0.3.7\n",
      "\u001b[33mYou are using pip version 18.1, however version 20.3.3 is available.\n",
      "You should consider upgrading via the 'pip install --upgrade pip' command.\u001b[0m\n"
     ]
    }
   ],
   "source": [
    "!pip install pytesseract"
   ]
  },
  {
   "cell_type": "code",
   "execution_count": 4,
   "metadata": {},
   "outputs": [],
   "source": [
    "import pytesseract"
   ]
  },
  {
   "cell_type": "code",
   "execution_count": 13,
   "metadata": {},
   "outputs": [
    {
     "name": "stdout",
     "output_type": "stream",
     "text": [
      " \n",
      "\n",
      "+1 (608) 443-7999\n",
      "\n",
      "We did split everything already\n",
      "\n",
      "Definitely not my money ry\n",
      "\n",
      " \n",
      "\n",
      "+1 (608) 443-7999\n",
      "\n",
      "Thank you (==) so excited to be by the beach!\n",
      "Nora you are welcome to join yy\n",
      "\n",
      "Today, 14:22\n",
      "+7 (919) 674-71-18\n",
      "\n",
      "| hope you guys have a wonderful time\n",
      "\f",
      "\n"
     ]
    }
   ],
   "source": [
    "print(pytesseract.image_to_string('ex3.png'))"
   ]
  },
  {
   "cell_type": "code",
   "execution_count": 7,
   "metadata": {},
   "outputs": [
    {
     "ename": "NameError",
     "evalue": "name 'cv2' is not defined",
     "output_type": "error",
     "traceback": [
      "\u001b[0;31m---------------------------------------------------------------------------\u001b[0m",
      "\u001b[0;31mNameError\u001b[0m                                 Traceback (most recent call last)",
      "\u001b[0;32m<ipython-input-7-858115e98c9b>\u001b[0m in \u001b[0;36m<module>\u001b[0;34m\u001b[0m\n\u001b[0;32m----> 1\u001b[0;31m \u001b[0mimg\u001b[0m \u001b[0;34m=\u001b[0m \u001b[0mcv2\u001b[0m\u001b[0;34m.\u001b[0m\u001b[0mimread\u001b[0m\u001b[0;34m(\u001b[0m\u001b[0;34m'ex2.png'\u001b[0m\u001b[0;34m)\u001b[0m\u001b[0;34m\u001b[0m\u001b[0;34m\u001b[0m\u001b[0m\n\u001b[0m",
      "\u001b[0;31mNameError\u001b[0m: name 'cv2' is not defined"
     ]
    }
   ],
   "source": [
    "img = cv2.imread('ex2.png')"
   ]
  },
  {
   "cell_type": "code",
   "execution_count": 9,
   "metadata": {},
   "outputs": [
    {
     "data": {
      "text/plain": [
       "(472, 324, 3)"
      ]
     },
     "execution_count": 9,
     "metadata": {},
     "output_type": "execute_result"
    }
   ],
   "source": [
    "img.shape"
   ]
  },
  {
   "cell_type": "code",
   "execution_count": 10,
   "metadata": {},
   "outputs": [],
   "source": [
    "new_img = img.astype('float32')"
   ]
  },
  {
   "cell_type": "code",
   "execution_count": 11,
   "metadata": {},
   "outputs": [
    {
     "data": {
      "text/plain": [
       "array([[[255., 255., 255.],\n",
       "        [255., 255., 255.],\n",
       "        [255., 255., 255.],\n",
       "        ...,\n",
       "        [255., 255., 255.],\n",
       "        [255., 255., 255.],\n",
       "        [255., 255., 255.]],\n",
       "\n",
       "       [[255., 255., 255.],\n",
       "        [255., 255., 255.],\n",
       "        [255., 255., 255.],\n",
       "        ...,\n",
       "        [255., 255., 255.],\n",
       "        [255., 255., 255.],\n",
       "        [255., 255., 255.]],\n",
       "\n",
       "       [[255., 255., 255.],\n",
       "        [255., 255., 255.],\n",
       "        [255., 255., 255.],\n",
       "        ...,\n",
       "        [255., 255., 255.],\n",
       "        [255., 255., 255.],\n",
       "        [255., 255., 255.]],\n",
       "\n",
       "       ...,\n",
       "\n",
       "       [[255., 255., 255.],\n",
       "        [255., 255., 255.],\n",
       "        [255., 255., 255.],\n",
       "        ...,\n",
       "        [255., 255., 255.],\n",
       "        [255., 255., 255.],\n",
       "        [255., 255., 255.]],\n",
       "\n",
       "       [[255., 255., 255.],\n",
       "        [255., 255., 255.],\n",
       "        [255., 255., 255.],\n",
       "        ...,\n",
       "        [255., 255., 255.],\n",
       "        [255., 255., 255.],\n",
       "        [255., 255., 255.]],\n",
       "\n",
       "       [[255., 255., 255.],\n",
       "        [255., 255., 255.],\n",
       "        [255., 255., 255.],\n",
       "        ...,\n",
       "        [255., 255., 255.],\n",
       "        [255., 255., 255.],\n",
       "        [255., 255., 255.]]], dtype=float32)"
      ]
     },
     "execution_count": 11,
     "metadata": {},
     "output_type": "execute_result"
    }
   ],
   "source": [
    "new_img"
   ]
  },
  {
   "cell_type": "code",
   "execution_count": 12,
   "metadata": {},
   "outputs": [
    {
     "name": "stdout",
     "output_type": "stream",
     "text": [
      "Updating Homebrew...\n",
      "\u001b[34m==>\u001b[0m \u001b[1mAuto-updated Homebrew!\u001b[0m\n",
      "Updated 2 taps (homebrew/core and homebrew/services).\n",
      "\u001b[34m==>\u001b[0m \u001b[1mNew Formulae\u001b[0m\n",
      "aida-header                khiva                      ruby@2.7\n",
      "atkmm@2.28                 libcap-ng                  spack\n",
      "attr                       libnsl                     sqlc\n",
      "aws-console                libpinyin                  terracognita\n",
      "cargo-audit                libva                      tgenv\n",
      "cargo-watch                libvdpau                   thrax\n",
      "counterfeiter              libvnc                     trec_eval\n",
      "dnsx                       libxml++@4                 vc\n",
      "dprint                     libxml++@5                 wayland\n",
      "efm-langserver             logswan                    wayland-protocols\n",
      "flow-cli                   massdns                    xcb-util-cursor\n",
      "glibmm@2.64                md4c                       xcb-util-image\n",
      "grokj2k                    mermaid-cli                xcb-util-keysyms\n",
      "gtkmm4                     mockery                    xcb-util-renderutil\n",
      "h2spec                     muffet                     xcb-util-wm\n",
      "hblock                     oakc                       xcbeautify\n",
      "heppdt2                    openalpr                   xcinfo\n",
      "inframap                   pangomm@2.42               yq@3\n",
      "jql                        pkger                      zsh-async\n",
      "keptn                      rttr\n",
      "\u001b[34m==>\u001b[0m \u001b[1mUpdated Formulae\u001b[0m\n",
      "Updated 4056 formulae.\n",
      "\u001b[34m==>\u001b[0m \u001b[1mRenamed Formulae\u001b[0m\n",
      "gtk+4 -> gtk4\n",
      "\u001b[34m==>\u001b[0m \u001b[1mDeleted Formulae\u001b[0m\n",
      "dtrx                gobby               godep               unrar\n",
      "\n",
      "\u001b[34m==>\u001b[0m \u001b[1mDownloading https://homebrew.bintray.com/bottles/giflib-5.2.1.catalina.bottl\u001b[0m\n",
      "######################################################################## 100.0%\n",
      "\u001b[34m==>\u001b[0m \u001b[1mDownloading https://homebrew.bintray.com/bottles/libtiff-4.2.0.catalina.bott\u001b[0m\n",
      "\u001b[34m==>\u001b[0m \u001b[1mDownloading from https://d29vzk4ow07wi7.cloudfront.net/208176ae2c5642eb0dff7\u001b[0m\n",
      "######################################################################## 100.0%\n",
      "\u001b[34m==>\u001b[0m \u001b[1mDownloading https://homebrew.bintray.com/bottles/little-cms2-2.11.catalina.b\u001b[0m\n",
      "\u001b[34m==>\u001b[0m \u001b[1mDownloading from https://d29vzk4ow07wi7.cloudfront.net/b0fe7486871b0fb0e3401\u001b[0m\n",
      "######################################################################## 100.0%\n",
      "\u001b[34m==>\u001b[0m \u001b[1mDownloading https://homebrew.bintray.com/bottles/openjpeg-2.3.1.catalina.bot\u001b[0m\n",
      "\u001b[34m==>\u001b[0m \u001b[1mDownloading from https://d29vzk4ow07wi7.cloudfront.net/29b9e0e1ed01683fd26a2\u001b[0m\n",
      "######################################################################## 100.0%\n",
      "\u001b[34m==>\u001b[0m \u001b[1mDownloading https://homebrew.bintray.com/bottles/leptonica-1.80.0.catalina.b\u001b[0m\n",
      "\u001b[34m==>\u001b[0m \u001b[1mDownloading from https://d29vzk4ow07wi7.cloudfront.net/2772ab6d50bb48132db5b\u001b[0m\n",
      "######################################################################## 100.0%\n",
      "\u001b[34m==>\u001b[0m \u001b[1mDownloading https://homebrew.bintray.com/bottles/tesseract-4.1.1.catalina.bo\u001b[0m\n",
      "\u001b[34m==>\u001b[0m \u001b[1mDownloading from https://d29vzk4ow07wi7.cloudfront.net/81ff467946d9c85151c86\u001b[0m\n",
      "######################################################################## 100.0%\n",
      "\u001b[32m==>\u001b[0m \u001b[1mInstalling dependencies for tesseract: \u001b[32mgiflib\u001b[39m, \u001b[32mlibtiff\u001b[39m, \u001b[32mlittle-cms2\u001b[39m, \u001b[32mopenjpeg\u001b[39m and \u001b[32mleptonica\u001b[39m\u001b[0m\n",
      "\u001b[32m==>\u001b[0m \u001b[1mInstalling tesseract dependency: \u001b[32mgiflib\u001b[39m\u001b[0m\n",
      "\u001b[34m==>\u001b[0m \u001b[1mPouring giflib-5.2.1.catalina.bottle.tar.gz\u001b[0m\n",
      "🍺  /usr/local/Cellar/giflib/5.2.1: 19 files, 383.3KB\n",
      "\u001b[32m==>\u001b[0m \u001b[1mInstalling tesseract dependency: \u001b[32mlibtiff\u001b[39m\u001b[0m\n",
      "\u001b[34m==>\u001b[0m \u001b[1mPouring libtiff-4.2.0.catalina.bottle.tar.gz\u001b[0m\n",
      "🍺  /usr/local/Cellar/libtiff/4.2.0: 248 files, 4.4MB\n",
      "\u001b[32m==>\u001b[0m \u001b[1mInstalling tesseract dependency: \u001b[32mlittle-cms2\u001b[39m\u001b[0m\n",
      "\u001b[34m==>\u001b[0m \u001b[1mPouring little-cms2-2.11.catalina.bottle.tar.gz\u001b[0m\n",
      "🍺  /usr/local/Cellar/little-cms2/2.11: 21 files, 1MB\n",
      "\u001b[32m==>\u001b[0m \u001b[1mInstalling tesseract dependency: \u001b[32mopenjpeg\u001b[39m\u001b[0m\n",
      "\u001b[34m==>\u001b[0m \u001b[1mPouring openjpeg-2.3.1.catalina.bottle.tar.gz\u001b[0m\n",
      "🍺  /usr/local/Cellar/openjpeg/2.3.1: 516 files, 13.9MB\n",
      "\u001b[32m==>\u001b[0m \u001b[1mInstalling tesseract dependency: \u001b[32mleptonica\u001b[39m\u001b[0m\n",
      "\u001b[34m==>\u001b[0m \u001b[1mPouring leptonica-1.80.0.catalina.bottle.tar.gz\u001b[0m\n",
      "🍺  /usr/local/Cellar/leptonica/1.80.0: 52 files, 6MB\n",
      "\u001b[32m==>\u001b[0m \u001b[1mInstalling \u001b[32mtesseract\u001b[39m\u001b[0m\n",
      "\u001b[34m==>\u001b[0m \u001b[1mPouring tesseract-4.1.1.catalina.bottle.tar.gz\u001b[0m\n",
      "\u001b[34m==>\u001b[0m \u001b[1mCaveats\u001b[0m\n",
      "This formula contains only the \"eng\", \"osd\", and \"snum\" language data files.\n",
      "If you need any other supported languages, run `brew install tesseract-lang`.\n",
      "\u001b[34m==>\u001b[0m \u001b[1mSummary\u001b[0m\n",
      "🍺  /usr/local/Cellar/tesseract/4.1.1: 65 files, 29.6MB\n",
      "\u001b[32m==>\u001b[0m \u001b[1mCaveats\u001b[0m\n",
      "\u001b[34m==>\u001b[0m \u001b[1mtesseract\u001b[0m\n",
      "This formula contains only the \"eng\", \"osd\", and \"snum\" language data files.\n",
      "If you need any other supported languages, run `brew install tesseract-lang`.\n"
     ]
    }
   ],
   "source": [
    "!brew install tesseract"
   ]
  },
  {
   "cell_type": "code",
   "execution_count": 14,
   "metadata": {},
   "outputs": [
    {
     "name": "stdout",
     "output_type": "stream",
     "text": [
      "tesseract 4.1.1\n",
      " leptonica-1.80.0\n",
      "  libgif 5.2.1 : libjpeg 9d : libpng 1.6.37 : libtiff 4.2.0 : zlib 1.2.11 : libwebp 1.1.0 : libopenjp2 2.3.1\n",
      " Found AVX2\n",
      " Found AVX\n",
      " Found FMA\n",
      " Found SSE\n"
     ]
    }
   ],
   "source": [
    "!tesseract -v"
   ]
  },
  {
   "cell_type": "code",
   "execution_count": 15,
   "metadata": {},
   "outputs": [
    {
     "name": "stdout",
     "output_type": "stream",
     "text": [
      "Requirement already satisfied: pillow in /Users/aydinyanna/opt/anaconda3/lib/python3.8/site-packages (7.2.0)\n",
      "Requirement already satisfied: pytesseract in /Users/aydinyanna/opt/anaconda3/lib/python3.8/site-packages (0.3.7)\n",
      "Requirement already satisfied: Pillow in /Users/aydinyanna/opt/anaconda3/lib/python3.8/site-packages (from pytesseract) (7.2.0)\n",
      "Collecting imutils\n",
      "  Downloading imutils-0.5.3.tar.gz (17 kB)\n",
      "Building wheels for collected packages: imutils\n",
      "  Building wheel for imutils (setup.py) ... \u001b[?25ldone\n",
      "\u001b[?25h  Created wheel for imutils: filename=imutils-0.5.3-py3-none-any.whl size=25850 sha256=064be535ad1f1970e80412c856acae1b44491ff3276c7b2dcb308f4f1d41450b\n",
      "  Stored in directory: /Users/aydinyanna/Library/Caches/pip/wheels/c8/d6/0f/b0c3892b70c59f0d202f8619a449f7d14cb839a0af2f943869\n",
      "Successfully built imutils\n",
      "Installing collected packages: imutils\n",
      "Successfully installed imutils-0.5.3\n"
     ]
    }
   ],
   "source": [
    "! pip install pillow\n",
    "! pip install pytesseract\n",
    "! pip install imutils"
   ]
  },
  {
   "cell_type": "code",
   "execution_count": null,
   "metadata": {},
   "outputs": [],
   "source": []
  }
 ],
 "metadata": {
  "kernelspec": {
   "display_name": "Python 3",
   "language": "python",
   "name": "python3"
  },
  "language_info": {
   "codemirror_mode": {
    "name": "ipython",
    "version": 3
   },
   "file_extension": ".py",
   "mimetype": "text/x-python",
   "name": "python",
   "nbconvert_exporter": "python",
   "pygments_lexer": "ipython3",
   "version": "3.6.9"
  }
 },
 "nbformat": 4,
 "nbformat_minor": 4
}
