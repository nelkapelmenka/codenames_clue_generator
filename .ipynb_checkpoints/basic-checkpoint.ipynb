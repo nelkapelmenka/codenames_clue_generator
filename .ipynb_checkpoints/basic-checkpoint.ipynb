{
 "cells": [
  {
   "cell_type": "code",
   "execution_count": 38,
   "metadata": {},
   "outputs": [],
   "source": [
    "import numpy as np\n",
    "from nltk.stem import WordNetLemmatizer\n",
    "from nltk.stem.porter import PorterStemmer"
   ]
  },
  {
   "cell_type": "code",
   "execution_count": 3,
   "metadata": {},
   "outputs": [
    {
     "name": "stdout",
     "output_type": "stream",
     "text": [
      "List the words on the row 1\n"
     ]
    },
    {
     "name": "stdin",
     "output_type": "stream",
     "text": [
      " hand, pistol, germany, ground, scientist\n"
     ]
    },
    {
     "name": "stdout",
     "output_type": "stream",
     "text": [
      "List the words on the row 2\n"
     ]
    },
    {
     "name": "stdin",
     "output_type": "stream",
     "text": [
      " nut, disease, tail, tick, worm\n"
     ]
    },
    {
     "name": "stdout",
     "output_type": "stream",
     "text": [
      "List the words on the row 3\n"
     ]
    },
    {
     "name": "stdin",
     "output_type": "stream",
     "text": [
      " penguin, ninja, part, czech, log\n"
     ]
    },
    {
     "name": "stdout",
     "output_type": "stream",
     "text": [
      "List the words on the row 4\n"
     ]
    },
    {
     "name": "stdin",
     "output_type": "stream",
     "text": [
      " spider, mouth, tag, missile, embassy\n"
     ]
    },
    {
     "name": "stdout",
     "output_type": "stream",
     "text": [
      "List the words on the row 5\n"
     ]
    },
    {
     "name": "stdin",
     "output_type": "stream",
     "text": [
      " button, himalayas, lawyer, mint, kiwi\n"
     ]
    }
   ],
   "source": [
    "# What are the words on the board\n",
    "print('List the words on the row 1')\n",
    "words1 = input()\n",
    "print('List the words on the row 2')\n",
    "words2 = input()\n",
    "print('List the words on the row 3')\n",
    "words3 = input()\n",
    "print('List the words on the row 4')\n",
    "words4 = input()\n",
    "print('List the words on the row 5')\n",
    "words5 = input()"
   ]
  },
  {
   "cell_type": "code",
   "execution_count": 19,
   "metadata": {},
   "outputs": [],
   "source": [
    "word_list = words1 + ',' + words2 + ',' + words3 + ',' + words4 + ',' + words5\n",
    "final_words = word_list.replace(' ', '').split(',')"
   ]
  },
  {
   "cell_type": "code",
   "execution_count": 21,
   "metadata": {},
   "outputs": [
    {
     "name": "stdout",
     "output_type": "stream",
     "text": [
      "List red, blue, neutral or assassin for row 1\n"
     ]
    },
    {
     "name": "stdin",
     "output_type": "stream",
     "text": [
      " red, blue, blue, red, neutral\n"
     ]
    },
    {
     "name": "stdout",
     "output_type": "stream",
     "text": [
      "List red, blue, neutral or assassin for row 2\n"
     ]
    },
    {
     "name": "stdin",
     "output_type": "stream",
     "text": [
      " blue, neutral, blue, red, red\n"
     ]
    },
    {
     "name": "stdout",
     "output_type": "stream",
     "text": [
      "List red, blue, neutral or assassin for row 3\n"
     ]
    },
    {
     "name": "stdin",
     "output_type": "stream",
     "text": [
      " neutral, assassin, neutral, blue, blue\n"
     ]
    },
    {
     "name": "stdout",
     "output_type": "stream",
     "text": [
      "List red, blue, neutral or assassin for row 4\n"
     ]
    },
    {
     "name": "stdin",
     "output_type": "stream",
     "text": [
      " red, red, neutral, red, neutral\n"
     ]
    },
    {
     "name": "stdout",
     "output_type": "stream",
     "text": [
      "List red, blue, neutral or assassin for row 5\n"
     ]
    },
    {
     "name": "stdin",
     "output_type": "stream",
     "text": [
      " red, blue, neutral, red, blue\n"
     ]
    }
   ],
   "source": [
    "# What does the grid look like\n",
    "print('List red, blue, neutral or assassin for row 1')\n",
    "grid1 = input()\n",
    "print('List red, blue, neutral or assassin for row 2')\n",
    "grid2 = input()\n",
    "print('List red, blue, neutral or assassin for row 3')\n",
    "grid3 = input()\n",
    "print('List red, blue, neutral or assassin for row 4')\n",
    "grid4 = input()\n",
    "print('List red, blue, neutral or assassin for row 5')\n",
    "grid5 = input()"
   ]
  },
  {
   "cell_type": "code",
   "execution_count": 22,
   "metadata": {},
   "outputs": [
    {
     "name": "stdout",
     "output_type": "stream",
     "text": [
      "What colour is your team?\n"
     ]
    },
    {
     "name": "stdin",
     "output_type": "stream",
     "text": [
      " red\n"
     ]
    }
   ],
   "source": [
    "print('What colour is your team?')\n",
    "team = input()"
   ]
  },
  {
   "cell_type": "code",
   "execution_count": 36,
   "metadata": {},
   "outputs": [],
   "source": [
    "grid_list = grid1 + ',' + grid2 + ',' + grid3 + ',' + grid4 + ',' + grid5\n",
    "total_grid = grid_list.replace(' ', '').split(',')\n",
    "num_grid = [1 if colour == team else 0 if colour == 'neutral' else -1 for colour in total_grid]\n"
   ]
  },
  {
   "cell_type": "code",
   "execution_count": 39,
   "metadata": {},
   "outputs": [
    {
     "data": {
      "text/plain": [
       "['hand',\n",
       " 'pistol',\n",
       " 'germany',\n",
       " 'ground',\n",
       " 'scientist',\n",
       " 'nut',\n",
       " 'disease',\n",
       " 'tail',\n",
       " 'tick',\n",
       " 'worm',\n",
       " 'penguin',\n",
       " 'ninja',\n",
       " 'part',\n",
       " 'czech',\n",
       " 'log',\n",
       " 'spider',\n",
       " 'mouth',\n",
       " 'tag',\n",
       " 'missile',\n",
       " 'embassy',\n",
       " 'button',\n",
       " 'himalayas',\n",
       " 'lawyer',\n",
       " 'mint',\n",
       " 'kiwi']"
      ]
     },
     "execution_count": 39,
     "metadata": {},
     "output_type": "execute_result"
    }
   ],
   "source": [
    "final_words"
   ]
  },
  {
   "cell_type": "code",
   "execution_count": 42,
   "metadata": {},
   "outputs": [],
   "source": [
    "import gensim\n",
    "from gensim.models.word2vec import Word2Vec\n",
    "import gensim.downloader as api"
   ]
  },
  {
   "cell_type": "code",
   "execution_count": 43,
   "metadata": {},
   "outputs": [],
   "source": [
    "corpus = api.load('text8')"
   ]
  },
  {
   "cell_type": "code",
   "execution_count": 44,
   "metadata": {},
   "outputs": [
    {
     "name": "stdout",
     "output_type": "stream",
     "text": [
      "CPU times: user 3min 6s, sys: 2.19 s, total: 3min 8s\n",
      "Wall time: 1min 27s\n"
     ]
    }
   ],
   "source": [
    "%%time\n",
    "model = Word2Vec(corpus)"
   ]
  },
  {
   "cell_type": "code",
   "execution_count": 51,
   "metadata": {},
   "outputs": [
    {
     "name": "stderr",
     "output_type": "stream",
     "text": [
      "/Users/aydinyanna/.pyenv/versions/3.6.9/lib/python3.6/site-packages/ipykernel_launcher.py:1: DeprecationWarning: Call to deprecated `most_similar_cosmul` (Method will be removed in 4.0.0, use self.wv.most_similar_cosmul() instead).\n",
      "  \"\"\"Entry point for launching an IPython kernel.\n"
     ]
    },
    {
     "data": {
      "text/plain": [
       "[('conan', 1.2177813053131104),\n",
       " ('potter', 1.1948812007904053),\n",
       " ('inferno', 1.1881738901138306),\n",
       " ('mcduck', 1.1764838695526123),\n",
       " ('kombat', 1.1758286952972412),\n",
       " ('highlander', 1.1750757694244385),\n",
       " ('buffy', 1.1707167625427246),\n",
       " ('lecter', 1.1561013460159302),\n",
       " ('frankenstein', 1.1546357870101929),\n",
       " ('joel', 1.1463373899459839)]"
      ]
     },
     "execution_count": 51,
     "metadata": {},
     "output_type": "execute_result"
    }
   ],
   "source": [
    "model.most_similar_cosmul(positive=['harry', 'evil'], negative=['good'])"
   ]
  },
  {
   "cell_type": "code",
   "execution_count": 48,
   "metadata": {},
   "outputs": [
    {
     "name": "stdout",
     "output_type": "stream",
     "text": [
      "CPU times: user 21.1 s, sys: 210 ms, total: 21.3 s\n",
      "Wall time: 21.7 s\n"
     ]
    }
   ],
   "source": [
    "%%time\n",
    "model_glove = api.load('glove-wiki-gigaword-50')"
   ]
  },
  {
   "cell_type": "code",
   "execution_count": 50,
   "metadata": {},
   "outputs": [
    {
     "data": {
      "text/plain": [
       "[('voldemort', 1.2922230958938599),\n",
       " ('lennix', 1.261061668395996),\n",
       " ('vassall', 1.2601096630096436),\n",
       " ('ghidorah', 1.2476990222930908),\n",
       " ('sorcerer', 1.2027148008346558),\n",
       " ('jameson', 1.2016581296920776),\n",
       " ('hamamelis', 1.1939492225646973),\n",
       " ('unicron', 1.188728928565979),\n",
       " ('sepkoski', 1.1831523180007935),\n",
       " ('szmyd', 1.1790595054626465)]"
      ]
     },
     "execution_count": 50,
     "metadata": {},
     "output_type": "execute_result"
    }
   ],
   "source": [
    "model_glove.most_similar_cosmul(positive=['harry', 'evil'], negative=['good'])"
   ]
  },
  {
   "cell_type": "code",
   "execution_count": 64,
   "metadata": {},
   "outputs": [
    {
     "data": {
      "text/plain": [
       "[1,\n",
       " -1,\n",
       " -1,\n",
       " 1,\n",
       " 0,\n",
       " -1,\n",
       " 0,\n",
       " -1,\n",
       " 1,\n",
       " 1,\n",
       " 0,\n",
       " -1,\n",
       " 0,\n",
       " -1,\n",
       " -1,\n",
       " 1,\n",
       " 1,\n",
       " 0,\n",
       " 1,\n",
       " 0,\n",
       " 1,\n",
       " -1,\n",
       " 0,\n",
       " 1,\n",
       " -1]"
      ]
     },
     "execution_count": 64,
     "metadata": {},
     "output_type": "execute_result"
    }
   ],
   "source": [
    "num_grid"
   ]
  },
  {
   "cell_type": "code",
   "execution_count": 75,
   "metadata": {},
   "outputs": [
    {
     "ename": "TypeError",
     "evalue": "list indices must be integers or slices, not tuple",
     "output_type": "error",
     "traceback": [
      "\u001b[0;31m---------------------------------------------------------------------------\u001b[0m",
      "\u001b[0;31mTypeError\u001b[0m                                 Traceback (most recent call last)",
      "\u001b[0;32m<ipython-input-75-72c37369476d>\u001b[0m in \u001b[0;36m<module>\u001b[0;34m\u001b[0m\n\u001b[0;32m----> 1\u001b[0;31m \u001b[0mfinal_words\u001b[0m\u001b[0;34m[\u001b[0m\u001b[0mnp\u001b[0m\u001b[0;34m.\u001b[0m\u001b[0mwhere\u001b[0m\u001b[0;34m(\u001b[0m\u001b[0mnew_grid\u001b[0m\u001b[0;34m==\u001b[0m\u001b[0;36m1\u001b[0m\u001b[0;34m)\u001b[0m\u001b[0;34m]\u001b[0m\u001b[0;34m\u001b[0m\u001b[0;34m\u001b[0m\u001b[0m\n\u001b[0m",
      "\u001b[0;31mTypeError\u001b[0m: list indices must be integers or slices, not tuple"
     ]
    }
   ],
   "source": [
    "final_words[np.where(new_grid==1)]"
   ]
  },
  {
   "cell_type": "code",
   "execution_count": 72,
   "metadata": {},
   "outputs": [],
   "source": [
    "new_grid = np.asarray(num_grid)"
   ]
  },
  {
   "cell_type": "code",
   "execution_count": 73,
   "metadata": {},
   "outputs": [
    {
     "data": {
      "text/plain": [
       "(array([ 0,  3,  8,  9, 15, 16, 18, 20, 23]),)"
      ]
     },
     "execution_count": 73,
     "metadata": {},
     "output_type": "execute_result"
    }
   ],
   "source": [
    "np.where(new_grid == 1)"
   ]
  },
  {
   "cell_type": "code",
   "execution_count": 69,
   "metadata": {},
   "outputs": [
    {
     "data": {
      "text/plain": [
       "False"
      ]
     },
     "execution_count": 69,
     "metadata": {},
     "output_type": "execute_result"
    }
   ],
   "source": [
    "num_grid == 1"
   ]
  },
  {
   "cell_type": "code",
   "execution_count": 76,
   "metadata": {},
   "outputs": [],
   "source": [
    "new_words = np.asarray(final_words)"
   ]
  },
  {
   "cell_type": "code",
   "execution_count": 81,
   "metadata": {},
   "outputs": [],
   "source": [
    "pos = new_words[new_grid==1]"
   ]
  },
  {
   "cell_type": "code",
   "execution_count": 82,
   "metadata": {},
   "outputs": [],
   "source": [
    "neg = new_words[new_grid == -1]"
   ]
  },
  {
   "cell_type": "code",
   "execution_count": 84,
   "metadata": {},
   "outputs": [
    {
     "data": {
      "text/plain": [
       "[('envelope', 7.0206427574157715),\n",
       " ('deposition', 6.93681526184082),\n",
       " ('intestinal', 6.554623126983643),\n",
       " ('sunlight', 6.523797512054443),\n",
       " ('drips', 6.183477401733398),\n",
       " ('incriminating', 6.032961845397949),\n",
       " ('scheck', 6.000885486602783),\n",
       " ('curative', 5.959173679351807),\n",
       " ('bloodstream', 5.934484004974365),\n",
       " ('drip', 5.879277229309082)]"
      ]
     },
     "execution_count": 84,
     "metadata": {},
     "output_type": "execute_result"
    }
   ],
   "source": [
    "model_glove.most_similar_cosmul(positive=list(pos), negative=list(neg))"
   ]
  },
  {
   "cell_type": "code",
   "execution_count": 85,
   "metadata": {},
   "outputs": [
    {
     "data": {
      "text/plain": [
       "array(['hand', 'ground', 'tick', 'worm', 'spider', 'mouth', 'missile',\n",
       "       'button', 'mint'], dtype='<U9')"
      ]
     },
     "execution_count": 85,
     "metadata": {},
     "output_type": "execute_result"
    }
   ],
   "source": [
    "pos"
   ]
  },
  {
   "cell_type": "code",
   "execution_count": 86,
   "metadata": {},
   "outputs": [
    {
     "data": {
      "text/plain": [
       "array(['pistol', 'germany', 'nut', 'tail', 'ninja', 'czech', 'log',\n",
       "       'himalayas', 'kiwi'], dtype='<U9')"
      ]
     },
     "execution_count": 86,
     "metadata": {},
     "output_type": "execute_result"
    }
   ],
   "source": [
    "neg"
   ]
  },
  {
   "cell_type": "code",
   "execution_count": 88,
   "metadata": {},
   "outputs": [],
   "source": [
    "from itertools import combinations"
   ]
  },
  {
   "cell_type": "code",
   "execution_count": 101,
   "metadata": {},
   "outputs": [],
   "source": [
    "perms = combinations(list(pos), 8)"
   ]
  },
  {
   "cell_type": "code",
   "execution_count": 102,
   "metadata": {},
   "outputs": [
    {
     "data": {
      "text/plain": [
       "<itertools.combinations at 0x12b78ca48>"
      ]
     },
     "execution_count": 102,
     "metadata": {},
     "output_type": "execute_result"
    }
   ],
   "source": [
    "perms"
   ]
  },
  {
   "cell_type": "code",
   "execution_count": 103,
   "metadata": {},
   "outputs": [
    {
     "name": "stdout",
     "output_type": "stream",
     "text": [
      "['hand', 'ground', 'tick', 'worm', 'spider', 'mouth', 'missile', 'button']\n",
      "['hand', 'ground', 'tick', 'worm', 'spider', 'mouth', 'missile', 'mint']\n",
      "['hand', 'ground', 'tick', 'worm', 'spider', 'mouth', 'button', 'mint']\n",
      "['hand', 'ground', 'tick', 'worm', 'spider', 'missile', 'button', 'mint']\n",
      "['hand', 'ground', 'tick', 'worm', 'mouth', 'missile', 'button', 'mint']\n",
      "['hand', 'ground', 'tick', 'spider', 'mouth', 'missile', 'button', 'mint']\n",
      "['hand', 'ground', 'worm', 'spider', 'mouth', 'missile', 'button', 'mint']\n",
      "['hand', 'tick', 'worm', 'spider', 'mouth', 'missile', 'button', 'mint']\n",
      "['ground', 'tick', 'worm', 'spider', 'mouth', 'missile', 'button', 'mint']\n"
     ]
    }
   ],
   "source": [
    "for i in list(perms):\n",
    "    print(list(i))"
   ]
  },
  {
   "cell_type": "code",
   "execution_count": null,
   "metadata": {},
   "outputs": [],
   "source": []
  }
 ],
 "metadata": {
  "kernelspec": {
   "display_name": "Python 3",
   "language": "python",
   "name": "python3"
  },
  "language_info": {
   "codemirror_mode": {
    "name": "ipython",
    "version": 3
   },
   "file_extension": ".py",
   "mimetype": "text/x-python",
   "name": "python",
   "nbconvert_exporter": "python",
   "pygments_lexer": "ipython3",
   "version": "3.6.9"
  }
 },
 "nbformat": 4,
 "nbformat_minor": 4
}
